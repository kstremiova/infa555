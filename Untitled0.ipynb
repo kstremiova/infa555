{
  "nbformat": 4,
  "nbformat_minor": 0,
  "metadata": {
    "colab": {
      "provenance": [],
      "authorship_tag": "ABX9TyOq6LJ8IqrkqV2S3HlfGdCv",
      "include_colab_link": true
    },
    "kernelspec": {
      "name": "python3",
      "display_name": "Python 3"
    },
    "language_info": {
      "name": "python"
    }
  },
  "cells": [
    {
      "cell_type": "markdown",
      "metadata": {
        "id": "view-in-github",
        "colab_type": "text"
      },
      "source": [
        "<a href=\"https://colab.research.google.com/github/kstremiova/infa555/blob/main/Untitled0.ipynb\" target=\"_parent\"><img src=\"https://colab.research.google.com/assets/colab-badge.svg\" alt=\"Open In Colab\"/></a>"
      ]
    },
    {
      "cell_type": "code",
      "execution_count": null,
      "metadata": {
        "id": "5xf3y0pGbAPE"
      },
      "outputs": [],
      "source": [
        "import numpy as np\n",
        "n = int(input())\n",
        "A = [[int(j) for j in input().split()] for i in range (n)]\n",
        "A = np.array (A)\n",
        "l, h = np.linalg.eig(A)\n",
        "m1 = abs(l[0])\n",
        "m2 = abs(l[1])\n",
        "k1 = 0\n",
        "k2 = 1\n",
        "if m2>m1:\n",
        "    m1,m2 = m2,m1\n",
        "    k1,k2 = k2,k1\n",
        "\n",
        "for i in range (2, len(l)):\n",
        "    if abs(l[i])>m2 and abs(l[i])<m1:\n",
        "        m2 = abs(l[i])\n",
        "        k2 = i\n",
        "    elif abs(l[i])>m1:\n",
        "        m2,m1 = m1,abs(l[i])\n",
        "        k2,k1 = k1,i\n",
        "for i in range (0,n):\n",
        "    print (h[k2][i])"
      ]
    }
  ]
}